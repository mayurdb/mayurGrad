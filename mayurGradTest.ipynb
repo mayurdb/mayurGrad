{
 "cells": [
  {
   "cell_type": "code",
   "execution_count": 58,
   "id": "4cad780a-465e-4ed8-8cab-2bbc6039cf38",
   "metadata": {},
   "outputs": [],
   "source": [
    "import math\n",
    "\n",
    "class Value():\n",
    "\n",
    "    def __init__(self, num, _parents=(), _op=''):\n",
    "        self.num = num\n",
    "        self.grad = 0.0\n",
    "        self.backProp = lambda: None\n",
    "        self._parents = _parents\n",
    "        self._op = _op\n",
    "\n",
    "    def __repr__(self):\n",
    "        return f\"Value(num:{self.num})\"\n",
    "\n",
    "    def __add__(self, other):\n",
    "\n",
    "        out = Value(self.num + other.num, (self, other), '+')\n",
    "\n",
    "        def _backProp():\n",
    "            other.grad = 1.0 * out.grad\n",
    "            self.grad = 1.0 * out.grad\n",
    "\n",
    "        self.backProp = _backProp\n",
    "\n",
    "        return out\n",
    "\n",
    "    def __sub__(self, other):\n",
    "        temp = other.copy(num = other.num * -1)\n",
    "        return self.add(self, temp)\n",
    "\n",
    "    def __mul__(self, other):\n",
    "        out = Value(self.num * other.num, (self, other), '*')\n",
    "\n",
    "        def _backProp():\n",
    "            self.grad = other.num * out.grad\n",
    "            other.grad = self.num * out.grad\n",
    "\n",
    "        self.backProp = _backProp\n",
    "\n",
    "        return out    \n",
    "\n",
    "    def __div__(self, other):\n",
    "        return Value(self.num / other.num, (self, other), '/')\n",
    "\n",
    "    def tanh(self):\n",
    "        numValue = (math.exp(2 * self.num) - 1) / (math.exp(2 * self.num) + 1)\n",
    "        out = Value(numValue, (self,), 'tanH')\n",
    "\n",
    "        def _backProp():\n",
    "            self.grad = (1 - numValue ** 2) * out.grad\n",
    "    \n",
    "        self.backProp = _backProp\n",
    "    \n",
    "        return out\n",
    "\n",
    "    def gradient(self):\n",
    "        for parent in self._parents:\n",
    "            parent.backProp()\n",
    "            parent.gradient()"
   ]
  },
  {
   "cell_type": "code",
   "execution_count": 59,
   "id": "e4ec8a1a-2942-4f04-89f7-9e745d860163",
   "metadata": {},
   "outputs": [
    {
     "name": "stdout",
     "output_type": "stream",
     "text": [
      "1.0\n",
      "0.27803481988494216\n",
      "0.0951991223286042\n",
      "0.20641305028258106\n",
      "0.27803481988494216\n",
      "0.13901740994247108\n",
      "0.27803481988494216\n"
     ]
    }
   ],
   "source": [
    "a = Value(1.0)\n",
    "b = Value(0.5)\n",
    "w1 = Value(0.3424)\n",
    "w2 = Value(0.7424)\n",
    "bias = Value(0.54142)\n",
    "out1 = w1*a + w2*b + bias\n",
    "out2 = out1.tanh()\n",
    "out2.grad = 1.0\n",
    "out2.gradient()\n",
    "print(out2.grad)\n",
    "print(out1.grad)\n",
    "print(a.grad)\n",
    "print(b.grad)\n",
    "print(w1.grad)\n",
    "print(w2.grad)\n",
    "print(bias.grad)"
   ]
  },
  {
   "cell_type": "code",
   "execution_count": 100,
   "id": "4fc486d3-bf26-4499-8d3f-a48bd5f5de5a",
   "metadata": {},
   "outputs": [],
   "source": [
    "import random\n",
    "\n",
    "class Neuron():\n",
    "\n",
    "    def __init__(self, numInp):\n",
    "        self.weights = [Value(random.uniform(-1, 1)) for _ in range(numInp)]\n",
    "        self.bias = Value(random.uniform(-1, 1))\n",
    "\n",
    "    def __call__(self, inputs):\n",
    "        assert(len(inputs) == len(self.weights))\n",
    "        out1 = Value(sum([w.num * x.num for w,x in zip(self.weights, inputs)]) + self.bias.num)\n",
    "        out2 = out1.tanh()\n",
    "        return out2\n",
    "\n",
    "class Layer():\n",
    "\n",
    "    def __init__(self, numNeurons, numInp):\n",
    "        print(numNeurons)\n",
    "        self.neurons = [Neuron(numInp) for _ in range(numNeurons)]\n",
    "\n",
    "    def __call__(self, inputs):\n",
    "        out = [neuron(inputs) for neuron in self.neurons]\n",
    "        return out\n",
    "\n",
    "class MLP():\n",
    "\n",
    "    def __init__(self, numLayers, numNeuronsPerLayer, numInps):\n",
    "        self.layers = []\n",
    "        for i in range(numLayers):\n",
    "            self.layers.append(Layer(numNeuronsPerLayer[i], numInps))\n",
    "            numInps = numNeuronsPerLayer[i]\n",
    "\n",
    "    def __call__(self, inputs):\n",
    "        for layer in self.layers:\n",
    "            inputs = layer(inputs)\n",
    "        return inputs"
   ]
  },
  {
   "cell_type": "code",
   "execution_count": 101,
   "id": "9aead386-5c31-42b2-85e1-57faebd282af",
   "metadata": {},
   "outputs": [
    {
     "name": "stdout",
     "output_type": "stream",
     "text": [
      "3\n",
      "6\n",
      "1\n",
      "[Value(num:-0.8710075899414912)]\n"
     ]
    }
   ],
   "source": [
    "network = MLP(3, [3, 6, 1], 2)\n",
    "a = network([Value(1.0), Value(2.0)])\n",
    "a = network([Value(1.0), Value(2.0)])\n",
    "a[0].gradient()\n",
    "print(a)"
   ]
  },
  {
   "cell_type": "code",
   "execution_count": 107,
   "id": "420c4d51-6172-48ed-a36f-179c9b46ae7f",
   "metadata": {},
   "outputs": [
    {
     "name": "stdout",
     "output_type": "stream",
     "text": [
      "3\n",
      "6\n",
      "1\n",
      "[Value(num:0.7833312921499127), Value(num:0.688127916915516), Value(num:0.7572835113210662), Value(num:0.4794003841315886)]\n",
      "-0.5878890943396743\n"
     ]
    }
   ],
   "source": [
    "x = [\n",
    "    [Value(random.uniform(-1, 1)) for _ in range(3)],\n",
    "    [Value(random.uniform(-1, 1)) for _ in range(3)],\n",
    "    [Value(random.uniform(-1, 1)) for _ in range(3)],\n",
    "    [Value(random.uniform(-1, 1)) for _ in range(3)],\n",
    "]\n",
    "\n",
    "y = [Value(random.uniform(-1, 1)) for _ in range(4)]\n",
    "\n",
    "mlp = MLP(3, [3, 6, 1], 3)\n",
    "y_pred = [mlp(x_i)[0] for x_i in x]\n",
    "print(y_pred)\n",
    "# loss = sum([y1 - y2 for y1, y2 in zip(y_pred, y)])\n",
    "print(loss)"
   ]
  }
 ],
 "metadata": {
  "kernelspec": {
   "display_name": "Python 3 (ipykernel)",
   "language": "python",
   "name": "python3"
  },
  "language_info": {
   "codemirror_mode": {
    "name": "ipython",
    "version": 3
   },
   "file_extension": ".py",
   "mimetype": "text/x-python",
   "name": "python",
   "nbconvert_exporter": "python",
   "pygments_lexer": "ipython3",
   "version": "3.11.6"
  }
 },
 "nbformat": 4,
 "nbformat_minor": 5
}
